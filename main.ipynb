{
 "cells": [
  {
   "cell_type": "code",
   "execution_count": 1,
   "metadata": {},
   "outputs": [],
   "source": [
    "from src.classes.network import Network\n",
    "from src.classes.node import Node\n",
    "from multiprocessing import Pool\n",
    "import os\n"
   ]
  },
  {
   "cell_type": "code",
   "execution_count": 5,
   "metadata": {},
   "outputs": [
    {
     "name": "stdout",
     "output_type": "stream",
     "text": [
      "A random network is initialized with p: 0.2 and 200 nodes\n",
      "25\n"
     ]
    }
   ],
   "source": [
    "# voorbeeld\n",
    "\n",
    "num_nodes = 100\n",
    "correlation = -1\n",
    "update_fraction = 0.1\n",
    "starting_distribution = 0.5     # L / R ratio (niet per se nodig maar kan misschien leuk zijn om te varieern)\n",
    "p = 0.2\n",
    "k = 2\n",
    "\n",
    "network = Network(num_nodes, correlation, update_fraction, starting_distribution, seed=35, p=p)\n",
    "number_of_alterations = 0\n",
    "for round in range(100):\n",
    "    network.update_round()\n",
    "    number_of_alterations += network.alterations\n",
    "print(number_of_alterations)"
   ]
  },
  {
   "cell_type": "code",
   "execution_count": null,
   "metadata": {},
   "outputs": [],
   "source": [
    "from src.classes.network import Network\n",
    "from src.viusalization import plot_network\n",
    "\n",
    "def create_network():\n",
    "    netwerkje = Network(1000, -1, p=0.02)\n",
    "    animation = plot_network(netwerkje)\n",
    "create_network()\n"
   ]
  },
  {
   "cell_type": "code",
   "execution_count": null,
   "metadata": {},
   "outputs": [],
   "source": [
    "from src.experimentation import experiment_a\n",
    "\n",
    "pars = []\n",
    "seed = 33\n",
    "for i in range(10):\n",
    "    seed += i*10\n",
    "    netwerkje = Network(100, -1, p=0.02, seed=seed)\n",
    "    pars.append(netwerkje)\n",
    "    \n",
    "PROCESSES = 10\n",
    "assert PROCESSES < os.cpu_count(), \"Lower the number of processes (PROCESSES)\"\n",
    "with Pool(PROCESSES) as pool:\n",
    "        assert PROCESSES < os.cpu_count(), \"Lower the number of processes (PROCESSES)\"\n",
    "        print(f\"Starting parallel execution for {experiment_a} schedule\")\n",
    "        results = pool.map(experiment_a, pars)"
   ]
  },
  {
   "cell_type": "code",
   "execution_count": null,
   "metadata": {},
   "outputs": [],
   "source": []
  },
  {
   "cell_type": "code",
   "execution_count": null,
   "metadata": {},
   "outputs": [],
   "source": []
  }
 ],
 "metadata": {
  "kernelspec": {
   "display_name": "myenvsc",
   "language": "python",
   "name": "python3"
  },
  "language_info": {
   "codemirror_mode": {
    "name": "ipython",
    "version": 3
   },
   "file_extension": ".py",
   "mimetype": "text/x-python",
   "name": "python",
   "nbconvert_exporter": "python",
   "pygments_lexer": "ipython3",
   "version": "3.12.3"
  }
 },
 "nbformat": 4,
 "nbformat_minor": 2
}
