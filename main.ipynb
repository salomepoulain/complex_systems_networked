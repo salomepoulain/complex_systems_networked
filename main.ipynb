{
 "cells": [
  {
   "cell_type": "code",
   "execution_count": 1,
   "metadata": {},
   "outputs": [],
   "source": [
    "from src.classes.network import Network\n",
    "from src.classes.node import Node\n",
    "from multiprocessing import Pool\n",
    "from src.viusalization import plot_network, animate_network, plot_cascade_dist, plot_cascade_dist_average\n",
    "from collections import defaultdict\n",
    "import os, sys\n"
   ]
  },
  {
   "cell_type": "markdown",
   "metadata": {},
   "source": [
    "#### Setting seed for fixed order for sets, for reproducability purposes"
   ]
  },
  {
   "cell_type": "code",
   "execution_count": 2,
   "metadata": {},
   "outputs": [],
   "source": [
    "# %env PYTHONHASHSEED=134"
   ]
  },
  {
   "cell_type": "code",
   "execution_count": 3,
   "metadata": {},
   "outputs": [],
   "source": [
    "def create_data(iters, network):\n",
    "\n",
    "    all_cascade_sizes = []\n",
    "    all_polarizations = []\n",
    "    average_cascade_per_round = []\n",
    "    average_polarization_per_round = []\n",
    "    number_of_samplers = 20\n",
    "\n",
    "    for _ in range(iters): \n",
    "        cascades, cascade_dist, cascade_polarization = network.analyze_network()\n",
    "        average_cascade_per_round.append(sum(cascade_dist)/number_of_samplers)\n",
    "        average_polarization_per_round.append(sum(cascade_polarization))\n",
    "        all_cascade_sizes += cascade_dist\n",
    "        all_polarizations += cascade_polarization\n",
    "\n",
    "        # plot_network(network, cascades)\n",
    "\n",
    "    data = defaultdict(list)\n",
    "    for i, (size, polarization) in enumerate(zip(all_cascade_sizes, all_polarizations), 1):\n",
    "        data[size].append(polarization)\n",
    "    for size in data:\n",
    "        data[size].sort()\n",
    "\n",
    "    average_data = defaultdict(list)\n",
    "    for (size, polarization) in zip(average_cascade_per_round, average_polarization_per_round):\n",
    "        average_data[size].append(polarization) \n",
    "    for size in average_data: \n",
    "        average_data[size].sort()\n",
    "        \n",
    "    return data, average_data\n",
    "    "
   ]
  },
  {
   "cell_type": "code",
   "execution_count": null,
   "metadata": {},
   "outputs": [],
   "source": [
    "# voorbeeld\n",
    "\n",
    "num_nodes = 200\n",
    "correlation = -1\n",
    "update_fraction = 0.1\n",
    "starting_distribution = 0.5     # L / R ratio (niet per se nodig maar kan misschien leuk zijn om te varieern)\n",
    "p = 0.01\n",
    "k = 2\n",
    "seedje = 32\n",
    "\n",
    "network = Network(num_nodes, correlation, update_fraction, starting_distribution, seed=seedje, p=p)\n",
    "\n",
    "number_of_iters=1000\n",
    "data_before, average_data_before = create_data(number_of_iters, network)\n",
    "largest_size = max(data_before.keys())\n",
    "plot_cascade_dist_average(data_before, largest_size)\n",
    "\n",
    "\n",
    "number_of_alterations = 0\n",
    "for i in range(1000):\n",
    "    network.update_round()\n",
    "    # network.rng = np.random.default_rng(seedje)\n",
    "    number_of_alterations += network.alterations\n",
    "print(number_of_alterations)\n",
    "\n",
    "data, average_data = create_data(number_of_iters, network)\n",
    "plot_cascade_dist_average(data, largest_size)\n",
    "\n",
    "\n"
   ]
  },
  {
   "cell_type": "code",
   "execution_count": null,
   "metadata": {},
   "outputs": [],
   "source": [
    "from src.classes.network import Network\n",
    "from src.viusalization import animate_network\n",
    "\n",
    "def create_network():\n",
    "    num_nodes = 200\n",
    "    correlation = -1\n",
    "    update_fraction = 0.3\n",
    "    starting_distribution = 0.5     # L / R ratio (niet per se nodig maar kan misschien leuk zijn om te varieern)\n",
    "    p = 0.01\n",
    "    k = 2\n",
    "\n",
    "\n",
    "    netwerkje = Network(num_nodes, correlation, update_fraction, starting_distribution, seed=32, p=p)\n",
    "    animation = animate_network(netwerkje)\n",
    "create_network()\n"
   ]
  },
  {
   "cell_type": "code",
   "execution_count": null,
   "metadata": {},
   "outputs": [],
   "source": [
    "from src.experimentation import experiment_a\n",
    "\n",
    "pars = []\n",
    "seed = 33\n",
    "for i in range(10):\n",
    "    seed += i*10\n",
    "    netwerkje = Network(100, -1, p=0.02, seed=seed)\n",
    "    pars.append(netwerkje)\n",
    "    \n",
    "PROCESSES = 10\n",
    "assert PROCESSES < os.cpu_count(), \"Lower the number of processes (PROCESSES)\"\n",
    "with Pool(PROCESSES) as pool:\n",
    "        assert PROCESSES < os.cpu_count(), \"Lower the number of processes (PROCESSES)\"\n",
    "        print(f\"Starting parallel execution for {experiment_a} schedule\")\n",
    "        results = pool.map(experiment_a, pars)"
   ]
  },
  {
   "cell_type": "code",
   "execution_count": null,
   "metadata": {},
   "outputs": [],
   "source": []
  },
  {
   "cell_type": "code",
   "execution_count": null,
   "metadata": {},
   "outputs": [],
   "source": []
  }
 ],
 "metadata": {
  "kernelspec": {
   "display_name": "myenvsc",
   "language": "python",
   "name": "python3"
  },
  "language_info": {
   "codemirror_mode": {
    "name": "ipython",
    "version": 3
   },
   "file_extension": ".py",
   "mimetype": "text/x-python",
   "name": "python",
   "nbconvert_exporter": "python",
   "pygments_lexer": "ipython3",
   "version": "3.12.3"
  }
 },
 "nbformat": 4,
 "nbformat_minor": 2
}
