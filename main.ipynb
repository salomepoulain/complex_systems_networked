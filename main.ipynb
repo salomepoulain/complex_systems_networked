{
 "cells": [
  {
   "cell_type": "code",
   "execution_count": 2,
   "metadata": {},
   "outputs": [],
   "source": [
    "from src.classes.network import Network\n",
    "from src.classes.node import Node\n",
    "from multiprocessing import Pool\n",
    "import os\n"
   ]
  },
  {
   "cell_type": "code",
   "execution_count": 16,
   "metadata": {},
   "outputs": [
    {
     "name": "stdout",
     "output_type": "stream",
     "text": [
      "A random network is initialized with p: 0.2 and 100 nodes\n",
      "42\n"
     ]
    }
   ],
   "source": [
    "# voorbeeld\n",
    "\n",
    "num_nodes = 100\n",
    "correlation = -2\n",
    "update_fraction = 0.1\n",
    "starting_distribution = 0.5     # L / R ratio (niet per se nodig maar kan misschien leuk zijn om te varieern)\n",
    "p = 0.2\n",
    "k = 2\n",
    "\n",
    "network = Network(num_nodes, correlation, update_fraction, starting_distribution, seed=33, p=p)\n",
    "number_of_alterations = 0\n",
    "for round in range(100):\n",
    "    network.update_round()\n",
    "    number_of_alterations += network.alterations\n",
    "print(number_of_alterations)"
   ]
  },
  {
   "cell_type": "code",
   "execution_count": null,
   "metadata": {},
   "outputs": [
    {
     "name": "stdout",
     "output_type": "stream",
     "text": [
      "A random network is initialized with p: 0.02 and 1000 nodes\n",
      "between frames 0, 0 there were 21 alterations made (208 network updates made)\n",
      "between frames 0, 0 there were 21 alterations made (321 network updates made)\n"
     ]
    },
    {
     "ename": "KeyboardInterrupt",
     "evalue": "",
     "output_type": "error",
     "traceback": [
      "\u001b[1;31m---------------------------------------------------------------------------\u001b[0m",
      "\u001b[1;31mKeyboardInterrupt\u001b[0m                         Traceback (most recent call last)",
      "Cell \u001b[1;32mIn[1], line 7\u001b[0m\n\u001b[0;32m      5\u001b[0m     netwerkje \u001b[38;5;241m=\u001b[39m Network(\u001b[38;5;241m1000\u001b[39m, \u001b[38;5;241m-\u001b[39m\u001b[38;5;241m1\u001b[39m, p\u001b[38;5;241m=\u001b[39m\u001b[38;5;241m0.02\u001b[39m)\n\u001b[0;32m      6\u001b[0m     animation \u001b[38;5;241m=\u001b[39m plot_network(netwerkje)\n\u001b[1;32m----> 7\u001b[0m \u001b[43mcreate_network\u001b[49m\u001b[43m(\u001b[49m\u001b[43m)\u001b[49m\n",
      "Cell \u001b[1;32mIn[1], line 6\u001b[0m, in \u001b[0;36mcreate_network\u001b[1;34m()\u001b[0m\n\u001b[0;32m      4\u001b[0m \u001b[38;5;28;01mdef\u001b[39;00m\u001b[38;5;250m \u001b[39m\u001b[38;5;21mcreate_network\u001b[39m():\n\u001b[0;32m      5\u001b[0m     netwerkje \u001b[38;5;241m=\u001b[39m Network(\u001b[38;5;241m1000\u001b[39m, \u001b[38;5;241m-\u001b[39m\u001b[38;5;241m1\u001b[39m, p\u001b[38;5;241m=\u001b[39m\u001b[38;5;241m0.02\u001b[39m)\n\u001b[1;32m----> 6\u001b[0m     animation \u001b[38;5;241m=\u001b[39m \u001b[43mplot_network\u001b[49m\u001b[43m(\u001b[49m\u001b[43mnetwerkje\u001b[49m\u001b[43m)\u001b[49m\n",
      "File \u001b[1;32mc:\\Users\\chris\\Documents\\courses\\complex-systems\\projects\\complex_systems_networked\\src\\viusalization.py:102\u001b[0m, in \u001b[0;36mplot_network\u001b[1;34m(network)\u001b[0m\n\u001b[0;32m     94\u001b[0m \u001b[38;5;66;03m# Create the animation\u001b[39;00m\n\u001b[0;32m     95\u001b[0m ani \u001b[38;5;241m=\u001b[39m FuncAnimation(\n\u001b[0;32m     96\u001b[0m     fig, \n\u001b[0;32m     97\u001b[0m     self_sort, \n\u001b[1;32m   (...)\u001b[0m\n\u001b[0;32m    100\u001b[0m     fargs\u001b[38;5;241m=\u001b[39m(network, graph, colors, pos, pos_target, ax, seedje)\n\u001b[0;32m    101\u001b[0m )\n\u001b[1;32m--> 102\u001b[0m \u001b[43mani\u001b[49m\u001b[38;5;241;43m.\u001b[39;49m\u001b[43msave\u001b[49m\u001b[43m(\u001b[49m\u001b[38;5;124;43m\"\u001b[39;49m\u001b[38;5;124;43manimations/network_animation.gif\u001b[39;49m\u001b[38;5;124;43m\"\u001b[39;49m\u001b[43m,\u001b[49m\u001b[43m \u001b[49m\u001b[43mfps\u001b[49m\u001b[38;5;241;43m=\u001b[39;49m\u001b[38;5;241;43m20\u001b[39;49m\u001b[43m,\u001b[49m\u001b[43m \u001b[49m\u001b[43mwriter\u001b[49m\u001b[38;5;241;43m=\u001b[39;49m\u001b[38;5;124;43m\"\u001b[39;49m\u001b[38;5;124;43mpillow\u001b[39;49m\u001b[38;5;124;43m\"\u001b[39;49m\u001b[43m)\u001b[49m\n\u001b[0;32m    103\u001b[0m plt\u001b[38;5;241m.\u001b[39mshow()\n",
      "File \u001b[1;32mc:\\Users\\chris\\Documents\\courses\\complex-systems\\projects\\complex_systems_networked\\myenvsc\\Lib\\site-packages\\matplotlib\\animation.py:1122\u001b[0m, in \u001b[0;36mAnimation.save\u001b[1;34m(self, filename, writer, fps, dpi, codec, bitrate, extra_args, metadata, extra_anim, savefig_kwargs, progress_callback)\u001b[0m\n\u001b[0;32m   1119\u001b[0m \u001b[38;5;28;01mfor\u001b[39;00m data \u001b[38;5;129;01min\u001b[39;00m \u001b[38;5;28mzip\u001b[39m(\u001b[38;5;241m*\u001b[39m[a\u001b[38;5;241m.\u001b[39mnew_saved_frame_seq() \u001b[38;5;28;01mfor\u001b[39;00m a \u001b[38;5;129;01min\u001b[39;00m all_anim]):\n\u001b[0;32m   1120\u001b[0m     \u001b[38;5;28;01mfor\u001b[39;00m anim, d \u001b[38;5;129;01min\u001b[39;00m \u001b[38;5;28mzip\u001b[39m(all_anim, data):\n\u001b[0;32m   1121\u001b[0m         \u001b[38;5;66;03m# TODO: See if turning off blit is really necessary\u001b[39;00m\n\u001b[1;32m-> 1122\u001b[0m         \u001b[43manim\u001b[49m\u001b[38;5;241;43m.\u001b[39;49m\u001b[43m_draw_next_frame\u001b[49m\u001b[43m(\u001b[49m\u001b[43md\u001b[49m\u001b[43m,\u001b[49m\u001b[43m \u001b[49m\u001b[43mblit\u001b[49m\u001b[38;5;241;43m=\u001b[39;49m\u001b[38;5;28;43;01mFalse\u001b[39;49;00m\u001b[43m)\u001b[49m\n\u001b[0;32m   1123\u001b[0m         \u001b[38;5;28;01mif\u001b[39;00m progress_callback \u001b[38;5;129;01mis\u001b[39;00m \u001b[38;5;129;01mnot\u001b[39;00m \u001b[38;5;28;01mNone\u001b[39;00m:\n\u001b[0;32m   1124\u001b[0m             progress_callback(frame_number, total_frames)\n",
      "File \u001b[1;32mc:\\Users\\chris\\Documents\\courses\\complex-systems\\projects\\complex_systems_networked\\myenvsc\\Lib\\site-packages\\matplotlib\\animation.py:1157\u001b[0m, in \u001b[0;36mAnimation._draw_next_frame\u001b[1;34m(self, framedata, blit)\u001b[0m\n\u001b[0;32m   1153\u001b[0m \u001b[38;5;28;01mdef\u001b[39;00m\u001b[38;5;250m \u001b[39m\u001b[38;5;21m_draw_next_frame\u001b[39m(\u001b[38;5;28mself\u001b[39m, framedata, blit):\n\u001b[0;32m   1154\u001b[0m     \u001b[38;5;66;03m# Breaks down the drawing of the next frame into steps of pre- and\u001b[39;00m\n\u001b[0;32m   1155\u001b[0m     \u001b[38;5;66;03m# post- draw, as well as the drawing of the frame itself.\u001b[39;00m\n\u001b[0;32m   1156\u001b[0m     \u001b[38;5;28mself\u001b[39m\u001b[38;5;241m.\u001b[39m_pre_draw(framedata, blit)\n\u001b[1;32m-> 1157\u001b[0m     \u001b[38;5;28;43mself\u001b[39;49m\u001b[38;5;241;43m.\u001b[39;49m\u001b[43m_draw_frame\u001b[49m\u001b[43m(\u001b[49m\u001b[43mframedata\u001b[49m\u001b[43m)\u001b[49m\n\u001b[0;32m   1158\u001b[0m     \u001b[38;5;28mself\u001b[39m\u001b[38;5;241m.\u001b[39m_post_draw(framedata, blit)\n",
      "File \u001b[1;32mc:\\Users\\chris\\Documents\\courses\\complex-systems\\projects\\complex_systems_networked\\myenvsc\\Lib\\site-packages\\matplotlib\\animation.py:1789\u001b[0m, in \u001b[0;36mFuncAnimation._draw_frame\u001b[1;34m(self, framedata)\u001b[0m\n\u001b[0;32m   1785\u001b[0m     \u001b[38;5;28mself\u001b[39m\u001b[38;5;241m.\u001b[39m_save_seq \u001b[38;5;241m=\u001b[39m \u001b[38;5;28mself\u001b[39m\u001b[38;5;241m.\u001b[39m_save_seq[\u001b[38;5;241m-\u001b[39m\u001b[38;5;28mself\u001b[39m\u001b[38;5;241m.\u001b[39m_save_count:]\n\u001b[0;32m   1787\u001b[0m \u001b[38;5;66;03m# Call the func with framedata and args. If blitting is desired,\u001b[39;00m\n\u001b[0;32m   1788\u001b[0m \u001b[38;5;66;03m# func needs to return a sequence of any artists that were modified.\u001b[39;00m\n\u001b[1;32m-> 1789\u001b[0m \u001b[38;5;28mself\u001b[39m\u001b[38;5;241m.\u001b[39m_drawn_artists \u001b[38;5;241m=\u001b[39m \u001b[38;5;28;43mself\u001b[39;49m\u001b[38;5;241;43m.\u001b[39;49m\u001b[43m_func\u001b[49m\u001b[43m(\u001b[49m\u001b[43mframedata\u001b[49m\u001b[43m,\u001b[49m\u001b[43m \u001b[49m\u001b[38;5;241;43m*\u001b[39;49m\u001b[38;5;28;43mself\u001b[39;49m\u001b[38;5;241;43m.\u001b[39;49m\u001b[43m_args\u001b[49m\u001b[43m)\u001b[49m\n\u001b[0;32m   1791\u001b[0m \u001b[38;5;28;01mif\u001b[39;00m \u001b[38;5;28mself\u001b[39m\u001b[38;5;241m.\u001b[39m_blit:\n\u001b[0;32m   1793\u001b[0m     err \u001b[38;5;241m=\u001b[39m \u001b[38;5;167;01mRuntimeError\u001b[39;00m(\u001b[38;5;124m'\u001b[39m\u001b[38;5;124mThe animation function must return a sequence \u001b[39m\u001b[38;5;124m'\u001b[39m\n\u001b[0;32m   1794\u001b[0m                        \u001b[38;5;124m'\u001b[39m\u001b[38;5;124mof Artist objects.\u001b[39m\u001b[38;5;124m'\u001b[39m)\n",
      "File \u001b[1;32mc:\\Users\\chris\\Documents\\courses\\complex-systems\\projects\\complex_systems_networked\\src\\viusalization.py:40\u001b[0m, in \u001b[0;36mself_sort\u001b[1;34m(frame, network, graph, colors, pos, pos_target, ax, seedje, all_alterations)\u001b[0m\n\u001b[0;32m     38\u001b[0m num_updates \u001b[38;5;241m=\u001b[39m \u001b[38;5;241m1000\u001b[39m\n\u001b[0;32m     39\u001b[0m \u001b[38;5;28;01mfor\u001b[39;00m i \u001b[38;5;129;01min\u001b[39;00m \u001b[38;5;28mrange\u001b[39m(num_updates):\n\u001b[1;32m---> 40\u001b[0m     \u001b[43mnetwork\u001b[49m\u001b[38;5;241;43m.\u001b[39;49m\u001b[43mupdate_round\u001b[49m\u001b[43m(\u001b[49m\u001b[43m)\u001b[49m\n\u001b[0;32m     41\u001b[0m     all_alterations \u001b[38;5;241m+\u001b[39m\u001b[38;5;241m=\u001b[39m network\u001b[38;5;241m.\u001b[39malterations\n\u001b[0;32m     43\u001b[0m     \u001b[38;5;66;03m# not too many updates in one step\u001b[39;00m\n",
      "File \u001b[1;32mc:\\Users\\chris\\Documents\\courses\\complex-systems\\projects\\complex_systems_networked\\src\\classes\\network.py:201\u001b[0m, in \u001b[0;36mNetwork.update_round\u001b[1;34m(self)\u001b[0m\n\u001b[0;32m    198\u001b[0m     node\u001b[38;5;241m.\u001b[39mmake_sampler()\n\u001b[0;32m    200\u001b[0m \u001b[38;5;66;03m# Respond to the news intensities, continue this untill steady state is reached\u001b[39;00m\n\u001b[1;32m--> 201\u001b[0m \u001b[38;5;28;43mself\u001b[39;49m\u001b[38;5;241;43m.\u001b[39;49m\u001b[43mrun_cascade\u001b[49m\u001b[43m(\u001b[49m\u001b[43msL\u001b[49m\u001b[43m,\u001b[49m\u001b[43m \u001b[49m\u001b[43msR\u001b[49m\u001b[43m)\u001b[49m\n\u001b[0;32m    203\u001b[0m \u001b[38;5;66;03m# Network adjustment\u001b[39;00m\n\u001b[0;32m    204\u001b[0m \u001b[38;5;28mself\u001b[39m\u001b[38;5;241m.\u001b[39mnetwork_adjustment(sL, sR)\n",
      "File \u001b[1;32mc:\\Users\\chris\\Documents\\courses\\complex-systems\\projects\\complex_systems_networked\\src\\classes\\network.py:128\u001b[0m, in \u001b[0;36mNetwork.run_cascade\u001b[1;34m(self, sL, sR)\u001b[0m\n\u001b[0;32m    124\u001b[0m \u001b[38;5;66;03m# print(\"not a steady state rached\")\u001b[39;00m\n\u001b[0;32m    125\u001b[0m \u001b[38;5;28;01mfor\u001b[39;00m individual \u001b[38;5;129;01min\u001b[39;00m union_to_consider:\n\u001b[0;32m    126\u001b[0m     \u001b[38;5;66;03m# print(\"within while loop\")\u001b[39;00m\n\u001b[0;32m    127\u001b[0m     \u001b[38;5;66;03m# omit redundant checks by returning only the neighbors of newly activated nodes. \u001b[39;00m\n\u001b[1;32m--> 128\u001b[0m     active_state, to_consider \u001b[38;5;241m=\u001b[39m \u001b[43mindividual\u001b[49m\u001b[38;5;241;43m.\u001b[39;49m\u001b[43mrespond\u001b[49m\u001b[43m(\u001b[49m\u001b[43m)\u001b[49m\n\u001b[0;32m    129\u001b[0m     \u001b[38;5;28;01mif\u001b[39;00m active_state:\n\u001b[0;32m    130\u001b[0m         steady_state_reached\u001b[38;5;241m=\u001b[39m\u001b[38;5;28;01mFalse\u001b[39;00m\n",
      "File \u001b[1;32mc:\\Users\\chris\\Documents\\courses\\complex-systems\\projects\\complex_systems_networked\\src\\classes\\node.py:33\u001b[0m, in \u001b[0;36mNode.respond\u001b[1;34m(self, intensity, analyze)\u001b[0m\n\u001b[0;32m     30\u001b[0m \u001b[38;5;28;01mdef\u001b[39;00m\u001b[38;5;250m \u001b[39m\u001b[38;5;21mreset_activation_state\u001b[39m(\u001b[38;5;28mself\u001b[39m):\n\u001b[0;32m     31\u001b[0m     \u001b[38;5;28mself\u001b[39m\u001b[38;5;241m.\u001b[39mactivation_state \u001b[38;5;241m=\u001b[39m \u001b[38;5;28;01mFalse\u001b[39;00m\n\u001b[1;32m---> 33\u001b[0m \u001b[38;5;28;01mdef\u001b[39;00m\u001b[38;5;250m \u001b[39m\u001b[38;5;21mrespond\u001b[39m(\u001b[38;5;28mself\u001b[39m, intensity\u001b[38;5;241m=\u001b[39m\u001b[38;5;241m0\u001b[39m, analyze\u001b[38;5;241m=\u001b[39m\u001b[38;5;28;01mFalse\u001b[39;00m):\n\u001b[0;32m     34\u001b[0m \u001b[38;5;250m    \u001b[39m\u001b[38;5;124;03m\"\"\"\u001b[39;00m\n\u001b[0;32m     35\u001b[0m \u001b[38;5;124;03m    respond to the news intensity and returns False if the activation state did not change, True otherwise.\u001b[39;00m\n\u001b[0;32m     36\u001b[0m \u001b[38;5;124;03m    \"\"\"\u001b[39;00m\n\u001b[0;32m     38\u001b[0m     neighbors_activated \u001b[38;5;241m=\u001b[39m \u001b[38;5;241m0\u001b[39m\n",
      "\u001b[1;31mKeyboardInterrupt\u001b[0m: "
     ]
    }
   ],
   "source": [
    "from src.classes.network import Network\n",
    "from src.viusalization import plot_network\n",
    "\n",
    "def create_network():\n",
    "    netwerkje = Network(1000, -1, p=0.02)\n",
    "    animation = plot_network(netwerkje)\n",
    "create_network()\n"
   ]
  },
  {
   "cell_type": "code",
   "execution_count": 1,
   "metadata": {},
   "outputs": [
    {
     "ename": "NameError",
     "evalue": "name 'Network' is not defined",
     "output_type": "error",
     "traceback": [
      "\u001b[1;31m---------------------------------------------------------------------------\u001b[0m",
      "\u001b[1;31mNameError\u001b[0m                                 Traceback (most recent call last)",
      "Cell \u001b[1;32mIn[1], line 5\u001b[0m\n\u001b[0;32m      3\u001b[0m pars \u001b[38;5;241m=\u001b[39m []\n\u001b[0;32m      4\u001b[0m \u001b[38;5;28;01mfor\u001b[39;00m i \u001b[38;5;129;01min\u001b[39;00m \u001b[38;5;28mrange\u001b[39m(\u001b[38;5;241m10\u001b[39m):\n\u001b[1;32m----> 5\u001b[0m     netwerkje \u001b[38;5;241m=\u001b[39m \u001b[43mNetwork\u001b[49m(\u001b[38;5;241m100\u001b[39m, \u001b[38;5;241m-\u001b[39m\u001b[38;5;241m1\u001b[39m, p\u001b[38;5;241m=\u001b[39m\u001b[38;5;241m0.02\u001b[39m)\n\u001b[0;32m      6\u001b[0m     pars\u001b[38;5;241m.\u001b[39mappend(netwerkje)\n\u001b[0;32m      8\u001b[0m PROCESSES \u001b[38;5;241m=\u001b[39m \u001b[38;5;241m10\u001b[39m\n",
      "\u001b[1;31mNameError\u001b[0m: name 'Network' is not defined"
     ]
    }
   ],
   "source": [
    "from src.experimentation import experiment_a\n",
    "\n",
    "pars = []\n",
    "seed = 33\n",
    "for i in range(10):\n",
    "    seed += i*10\n",
    "    netwerkje = Network(100, -1, p=0.02, seed=seed)\n",
    "    pars.append(netwerkje)\n",
    "    \n",
    "PROCESSES = 10\n",
    "assert PROCESSES < os.cpu_count(), \"Lower the number of processes (PROCESSES)\"\n",
    "with Pool(PROCESSES) as pool:\n",
    "        assert PROCESSES < os.cpu_count(), \"Lower the number of processes (PROCESSES)\"\n",
    "        print(f\"Starting parallel execution for {experiment_a} schedule\")\n",
    "        results = pool.map(experiment_a, pars)"
   ]
  },
  {
   "cell_type": "code",
   "execution_count": null,
   "metadata": {},
   "outputs": [],
   "source": []
  },
  {
   "cell_type": "code",
   "execution_count": null,
   "metadata": {},
   "outputs": [],
   "source": []
  }
 ],
 "metadata": {
  "kernelspec": {
   "display_name": "myenvsc",
   "language": "python",
   "name": "python3"
  },
  "language_info": {
   "codemirror_mode": {
    "name": "ipython",
    "version": 3
   },
   "file_extension": ".py",
   "mimetype": "text/x-python",
   "name": "python",
   "nbconvert_exporter": "python",
   "pygments_lexer": "ipython3",
   "version": "3.12.3"
  }
 },
 "nbformat": 4,
 "nbformat_minor": 2
}
