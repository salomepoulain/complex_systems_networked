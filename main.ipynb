{
 "cells": [
  {
   "cell_type": "code",
   "execution_count": 1,
   "metadata": {},
   "outputs": [],
   "source": [
    "from src.classes.network import Network\n",
    "from src.classes.node import Node\n",
    "from multiprocessing import Pool\n",
    "from src.viusalization import plot_network, animate_network, plot_cascade_dist\n",
    "from collections import defaultdict\n",
    "import os\n"
   ]
  },
  {
   "cell_type": "code",
   "execution_count": 2,
   "metadata": {},
   "outputs": [],
   "source": [
    "def create_data(iters, network):\n",
    "    how_many_iterations = 1000\n",
    "    all_cascade_sizes = []\n",
    "    all_polarizations = []\n",
    "    for _ in range(iters): \n",
    "        cascades, cascade_dist, cascade_polarization = network.analyze_network()\n",
    "        all_cascade_sizes += cascade_dist\n",
    "        all_polarizations += cascade_polarization\n",
    "\n",
    "        # plot_network(network, cascades)\n",
    "\n",
    "    data = defaultdict(list)\n",
    "    for i, (size, polarization) in enumerate(zip(all_cascade_sizes, all_polarizations), 1):\n",
    "        data[size].append((i, polarization))\n",
    "    for size in data:\n",
    "        data[size].sort(key=lambda x: x[1])\n",
    "    return data"
   ]
  },
  {
   "cell_type": "code",
   "execution_count": null,
   "metadata": {},
   "outputs": [],
   "source": [
    "# voorbeeld\n",
    "\n",
    "num_nodes = 200\n",
    "correlation = -1\n",
    "update_fraction = 0.3\n",
    "starting_distribution = 0.5     # L / R ratio (niet per se nodig maar kan misschien leuk zijn om te varieern)\n",
    "p = 0.01\n",
    "k = 2\n",
    "\n",
    "\n",
    "network = Network(num_nodes, correlation, update_fraction, starting_distribution, seed=32, p=p)\n",
    "\n",
    "number_of_iters =1000\n",
    "\n",
    "data_before = create_data(number_of_iters, network)\n",
    "plot_cascade_dist(data_before)\n",
    "\n",
    "\n",
    "number_of_alterations = 0\n",
    "for _ in range(1000):\n",
    "    network.update_round()\n",
    "    number_of_alterations += network.alterations\n",
    "print(number_of_alterations)\n",
    "\n",
    "\n",
    "data = create_data(number_of_iters, network)\n",
    "plot_cascade_dist(data)\n",
    "\n",
    "\n"
   ]
  },
  {
   "cell_type": "code",
   "execution_count": null,
   "metadata": {},
   "outputs": [],
   "source": [
    "from src.classes.network import Network\n",
    "from src.viusalization import animate_network\n",
    "\n",
    "def create_network():\n",
    "    num_nodes = 200\n",
    "    correlation = -1\n",
    "    update_fraction = 0.3\n",
    "    starting_distribution = 0.5     # L / R ratio (niet per se nodig maar kan misschien leuk zijn om te varieern)\n",
    "    p = 0.01\n",
    "    k = 2\n",
    "\n",
    "\n",
    "    netwerkje = Network(num_nodes, correlation, update_fraction, starting_distribution, seed=32, p=p)\n",
    "    animation = animate_network(netwerkje)\n",
    "create_network()\n"
   ]
  },
  {
   "cell_type": "code",
   "execution_count": null,
   "metadata": {},
   "outputs": [],
   "source": [
    "from src.experimentation import experiment_a\n",
    "\n",
    "pars = []\n",
    "seed = 33\n",
    "for i in range(10):\n",
    "    seed += i*10\n",
    "    netwerkje = Network(100, -1, p=0.02, seed=seed)\n",
    "    pars.append(netwerkje)\n",
    "    \n",
    "PROCESSES = 10\n",
    "assert PROCESSES < os.cpu_count(), \"Lower the number of processes (PROCESSES)\"\n",
    "with Pool(PROCESSES) as pool:\n",
    "        assert PROCESSES < os.cpu_count(), \"Lower the number of processes (PROCESSES)\"\n",
    "        print(f\"Starting parallel execution for {experiment_a} schedule\")\n",
    "        results = pool.map(experiment_a, pars)"
   ]
  },
  {
   "cell_type": "code",
   "execution_count": null,
   "metadata": {},
   "outputs": [],
   "source": []
  },
  {
   "cell_type": "code",
   "execution_count": null,
   "metadata": {},
   "outputs": [],
   "source": []
  }
 ],
 "metadata": {
  "kernelspec": {
   "display_name": "myenvsc",
   "language": "python",
   "name": "python3"
  },
  "language_info": {
   "codemirror_mode": {
    "name": "ipython",
    "version": 3
   },
   "file_extension": ".py",
   "mimetype": "text/x-python",
   "name": "python",
   "nbconvert_exporter": "python",
   "pygments_lexer": "ipython3",
   "version": "3.12.3"
  }
 },
 "nbformat": 4,
 "nbformat_minor": 2
}
